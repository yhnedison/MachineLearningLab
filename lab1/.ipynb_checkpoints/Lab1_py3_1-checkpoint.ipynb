{
 "cells": [
  {
   "cell_type": "markdown",
   "metadata": {},
   "source": [
    "# Lab Assignment 1\n",
    "\n",
    "___Members: ___ Hongning Yu,Hui Jiang, Hao Pan\n"
   ]
  },
  {
   "cell_type": "markdown",
   "metadata": {},
   "source": [
    "## 1. Business Understanding\n",
    "\n",
    "The dataset we choose is a IBM HR Analytics Employee Attrition & Performance dataset, which help us to predict the attrition of employees. It is free to download and use from Kaggle.\n",
    "\n",
    "The main purpose of using this dataset as our data source using for Lab1 is that as graduate students we barely know about what companies need from their employees, and from the employees perspective, that we may become after graduation, what attributs make employees decide to stay in their position or what make them leave.\n",
    "\n",
    "This data is valuable and important not only because it helps lots of companies predict the attrition of their employees but also gives a outline of how we make the decision to leave, or stay.\n",
    "\n",
    "By visualizing all the attributes, we can obtain plenty of relationships among those features and figure out the information we need. And base on those relationships, we can pretty much make a prediction.\n",
    "\n",
    "About the accurcy of our prediction, we assume that if the accurcy of our prediction is about 80%, it is a good model. There are many methods to evaluate our model and we think the accurcy is our main concern, but we may also use other evaluation function to make sure our model is good to use.\n",
    "\n",
    "Data Source:https://www.kaggle.com/pavansubhasht/ibm-hr-analytics-attrition-dataset"
   ]
  },
  {
   "cell_type": "markdown",
   "metadata": {},
   "source": [
    "## 2. Data Understanding"
   ]
  },
  {
   "cell_type": "code",
   "execution_count": null,
   "metadata": {
    "collapsed": true,
    "scrolled": true
   },
   "outputs": [],
   "source": [
    "import pandas as pd\n",
    "import seaborn \n",
    "import numpy as np\n",
    "pd.set_option('display.max_columns', None)\n",
    "\n",
    "df = pd.read_csv(\"./data.csv\")\n",
    "df.head()"
   ]
  },
  {
   "cell_type": "markdown",
   "metadata": {
    "collapsed": true
   },
   "source": [
    "From the original dataset description, features below are ordinal and have such meanings:\n",
    "\n",
    "\n",
    "Education:  1 'Below College' 2 'College' 3 'Bachelor' 4 'Master' 5 'Doctor'\n",
    "\n",
    "EnvironmentSatisfaction: 1 'Low' 2 'Medium' 3 'High' 4 'Very High'\n",
    "\n",
    "JobInvolvement: \n",
    "1 'Low' 2 'Medium' 3 'High' 4 'Very High'\n",
    "\n",
    "JobSatisfaction: 1 'Low' 2 'Medium' 3 'High' 4 'Very High'\n",
    "\n",
    "PerformanceRating: \n",
    "1 'Low' 2 'Good' 3 'Excellent' 4 'Outstanding'\n",
    "\n",
    "RelationshipSatisfaction: \n",
    "1 'Low' 2 'Medium' 3 'High' 4 'Very High'\n",
    "### 2.1  Features and Data types"
   ]
  },
  {
   "cell_type": "code",
   "execution_count": null,
   "metadata": {
    "collapsed": true,
    "scrolled": true
   },
   "outputs": [],
   "source": [
    "# show data type\n",
    "df.info()"
   ]
  },
  {
   "cell_type": "markdown",
   "metadata": {
    "collapsed": true
   },
   "source": [
    "There are 1470 entries and 34 features in total, since we treat attrition as our label. Also there seems no null values in this dataset. \n",
    "\n",
    "To varify this, let's check:\n"
   ]
  },
  {
   "cell_type": "code",
   "execution_count": null,
   "metadata": {
    "collapsed": true,
    "scrolled": true
   },
   "outputs": [],
   "source": [
    "df.isnull().sum()"
   ]
  },
  {
   "cell_type": "markdown",
   "metadata": {},
   "source": [
    "It looks like the dataset don't have any NaN values. That's good. "
   ]
  },
  {
   "cell_type": "code",
   "execution_count": null,
   "metadata": {
    "collapsed": true
   },
   "outputs": [],
   "source": [
    "df.describe()"
   ]
  },
  {
   "cell_type": "markdown",
   "metadata": {},
   "source": [
    "Since we have 34 attributes in total, we just choose a subset of those attributes and add a descrption on it."
   ]
  },
  {
   "cell_type": "code",
   "execution_count": 56,
   "metadata": {},
   "outputs": [
    {
     "data": {
      "text/html": [
       "<div>\n",
       "<style>\n",
       "    .dataframe thead tr:only-child th {\n",
       "        text-align: right;\n",
       "    }\n",
       "\n",
       "    .dataframe thead th {\n",
       "        text-align: left;\n",
       "    }\n",
       "\n",
       "    .dataframe tbody tr th {\n",
       "        vertical-align: top;\n",
       "    }\n",
       "</style>\n",
       "<table border=\"1\" class=\"dataframe\">\n",
       "  <thead>\n",
       "    <tr style=\"text-align: right;\">\n",
       "      <th></th>\n",
       "      <th>Features</th>\n",
       "      <th>Description</th>\n",
       "      <th>Discrete\\Continuous</th>\n",
       "      <th>Scales</th>\n",
       "      <th>Range</th>\n",
       "    </tr>\n",
       "  </thead>\n",
       "  <tbody>\n",
       "    <tr>\n",
       "      <th>0</th>\n",
       "      <td>Department</td>\n",
       "      <td>Department in which they work for</td>\n",
       "      <td>Discrete</td>\n",
       "      <td>nominal</td>\n",
       "      <td>Sales,Research &amp; Development,Human Resources</td>\n",
       "    </tr>\n",
       "    <tr>\n",
       "      <th>1</th>\n",
       "      <td>DistanceFromHome</td>\n",
       "      <td>Distance from their home to company</td>\n",
       "      <td>Discrete</td>\n",
       "      <td>nominal</td>\n",
       "      <td>1-29</td>\n",
       "    </tr>\n",
       "    <tr>\n",
       "      <th>2</th>\n",
       "      <td>Education</td>\n",
       "      <td>Education level</td>\n",
       "      <td>Discrete</td>\n",
       "      <td>ordinal</td>\n",
       "      <td>1:Below College 2:College 3:Bachelor 4:Master ...</td>\n",
       "    </tr>\n",
       "    <tr>\n",
       "      <th>3</th>\n",
       "      <td>EducationField</td>\n",
       "      <td>Fields of education</td>\n",
       "      <td>Discrete</td>\n",
       "      <td>nominal</td>\n",
       "      <td>Life Sciences, Other, Medical, Marketing, Tech...</td>\n",
       "    </tr>\n",
       "    <tr>\n",
       "      <th>4</th>\n",
       "      <td>EmployeeCount</td>\n",
       "      <td>Employee Count</td>\n",
       "      <td>Discrete</td>\n",
       "      <td>nominal</td>\n",
       "      <td>1</td>\n",
       "    </tr>\n",
       "    <tr>\n",
       "      <th>5</th>\n",
       "      <td>EmployeeNumber</td>\n",
       "      <td>Employee Number</td>\n",
       "      <td>Discrete</td>\n",
       "      <td>nominal</td>\n",
       "      <td>1-2068</td>\n",
       "    </tr>\n",
       "    <tr>\n",
       "      <th>6</th>\n",
       "      <td>EnvironmentSatisfaction</td>\n",
       "      <td>Satisfaction level about their environment</td>\n",
       "      <td>Discrete</td>\n",
       "      <td>ordinal</td>\n",
       "      <td>1:Low 2:Medium 3:High 4:Very High</td>\n",
       "    </tr>\n",
       "    <tr>\n",
       "      <th>7</th>\n",
       "      <td>Gender</td>\n",
       "      <td>Gender</td>\n",
       "      <td>Discrete</td>\n",
       "      <td>nominal</td>\n",
       "      <td>Female,Male</td>\n",
       "    </tr>\n",
       "    <tr>\n",
       "      <th>8</th>\n",
       "      <td>HourlyRate</td>\n",
       "      <td>Wage per hour</td>\n",
       "      <td>Continuous</td>\n",
       "      <td>nominal</td>\n",
       "      <td>30-100</td>\n",
       "    </tr>\n",
       "    <tr>\n",
       "      <th>9</th>\n",
       "      <td>JobInvolvement</td>\n",
       "      <td>Involvement level of their jobs</td>\n",
       "      <td>Discrete</td>\n",
       "      <td>ordinal</td>\n",
       "      <td>1:Low 2:Medium 3:High 4:Very High</td>\n",
       "    </tr>\n",
       "    <tr>\n",
       "      <th>10</th>\n",
       "      <td>JobLevel</td>\n",
       "      <td>Job level</td>\n",
       "      <td>Discrete</td>\n",
       "      <td>ordinal</td>\n",
       "      <td>1-5</td>\n",
       "    </tr>\n",
       "  </tbody>\n",
       "</table>\n",
       "</div>"
      ],
      "text/plain": [
       "                   Features                                 Description  \\\n",
       "0                Department           Department in which they work for   \n",
       "1          DistanceFromHome         Distance from their home to company   \n",
       "2                 Education                             Education level   \n",
       "3            EducationField                         Fields of education   \n",
       "4             EmployeeCount                              Employee Count   \n",
       "5            EmployeeNumber                             Employee Number   \n",
       "6   EnvironmentSatisfaction  Satisfaction level about their environment   \n",
       "7                    Gender                                      Gender   \n",
       "8                HourlyRate                               Wage per hour   \n",
       "9            JobInvolvement             Involvement level of their jobs   \n",
       "10                 JobLevel                                   Job level   \n",
       "\n",
       "   Discrete\\Continuous   Scales  \\\n",
       "0             Discrete  nominal   \n",
       "1             Discrete  nominal   \n",
       "2             Discrete  ordinal   \n",
       "3             Discrete  nominal   \n",
       "4             Discrete  nominal   \n",
       "5             Discrete  nominal   \n",
       "6             Discrete  ordinal   \n",
       "7             Discrete  nominal   \n",
       "8           Continuous  nominal   \n",
       "9             Discrete  ordinal   \n",
       "10            Discrete  ordinal   \n",
       "\n",
       "                                                Range  \n",
       "0        Sales,Research & Development,Human Resources  \n",
       "1                                                1-29  \n",
       "2   1:Below College 2:College 3:Bachelor 4:Master ...  \n",
       "3   Life Sciences, Other, Medical, Marketing, Tech...  \n",
       "4                                                   1  \n",
       "5                                              1-2068  \n",
       "6                   1:Low 2:Medium 3:High 4:Very High  \n",
       "7                                         Female,Male  \n",
       "8                                              30-100  \n",
       "9                   1:Low 2:Medium 3:High 4:Very High  \n",
       "10                                                1-5  "
      ]
     },
     "execution_count": 56,
     "metadata": {},
     "output_type": "execute_result"
    }
   ],
   "source": [
    "data_des = pd.DataFrame()\n",
    "data_des['Features'] = df.columns[4:15]\n",
    "data_des['Description'] = ['Department in which they work for', 'Distance from their home to company',\n",
    "                           'Education level', 'Fields of education',\n",
    "                           'Employee Count', 'Employee Number',\n",
    "                           'Satisfaction level about their environment', 'Gender',\n",
    "                           'Wage per hour', 'Involvement level of their jobs',\n",
    "                           'Job level'\n",
    "                          ]\n",
    "data_des['Discrete\\Continuous'] = ['Discrete']*8 + ['Continuous'] + ['Discrete']*2\n",
    "data_des['Scales'] = ['nominal']*2 + ['ordinal'] + ['nominal']*3 + ['ordinal'] + ['nominal']*2 + ['ordinal']*2\n",
    "data_des['Range'] = ['Sales,Research & Development,Human Resources','1-29',\n",
    "                     '1:Below College 2:College 3:Bachelor 4:Master 5:Doctor',\n",
    "                     'Life Sciences, Other, Medical, Marketing, Technical Degree, Human Resources',\n",
    "                     '1','1-2068','1:Low 2:Medium 3:High 4:Very High','Female,Male','30-100',\n",
    "                     '1:Low 2:Medium 3:High 4:Very High','1-5'\n",
    "                    ]\n",
    "data_des"
   ]
  },
  {
   "cell_type": "markdown",
   "metadata": {},
   "source": [
    "### 2.2 Data quality"
   ]
  },
  {
   "cell_type": "markdown",
   "metadata": {},
   "source": [
    "First let's see the unique values of all object features"
   ]
  },
  {
   "cell_type": "code",
   "execution_count": null,
   "metadata": {
    "collapsed": true,
    "scrolled": false
   },
   "outputs": [],
   "source": [
    "obj_list = df.select_dtypes(include=['object']).columns.tolist()\n",
    "for col in obj_list:\n",
    "    print('{}: \\n{}\\n'.format(col, df[col].unique()))"
   ]
  },
  {
   "cell_type": "markdown",
   "metadata": {},
   "source": [
    "BusinessTravel, Attrition and OverTime can be considered as ordinal. So encode them to numbers.\n",
    "\n",
    "\n",
    "Also, df.Over18 has only one value 'Yes'. So drop this feature."
   ]
  },
  {
   "cell_type": "code",
   "execution_count": null,
   "metadata": {
    "collapsed": true
   },
   "outputs": [],
   "source": [
    "df.BusinessTravel.replace(to_replace=['Travel_Rarely', 'Travel_Frequently', 'Non-Travel'], \n",
    "                          value=[1, 2, 0], \n",
    "                          inplace=True)\n",
    "\n",
    "df.Attrition.replace(to_replace=['Yes', 'No'], value=[1, 0], inplace=True)\n",
    "\n",
    "df.OverTime.replace(to_replace=['Yes', 'No'], value=[1, 0], inplace=True)\n",
    "\n",
    "if 'Over18' in df:\n",
    "    df.drop('Over18', axis=1, inplace=True)"
   ]
  },
  {
   "cell_type": "markdown",
   "metadata": {},
   "source": [
    "Let's also check numerical features:"
   ]
  },
  {
   "cell_type": "code",
   "execution_count": null,
   "metadata": {
    "collapsed": true
   },
   "outputs": [],
   "source": [
    "df_temp = df.select_dtypes(exclude=['object'])\n",
    "df_temp.max() - df_temp.min()"
   ]
  },
  {
   "cell_type": "markdown",
   "metadata": {},
   "source": [
    "Looks like 'EmployeeCount' and 'StandardHours' each has only one value. If so, just drop these columns."
   ]
  },
  {
   "cell_type": "code",
   "execution_count": null,
   "metadata": {
    "collapsed": true,
    "scrolled": true
   },
   "outputs": [],
   "source": [
    "print(df.EmployeeCount.unique())\n",
    "print(df.StandardHours.unique())"
   ]
  },
  {
   "cell_type": "code",
   "execution_count": null,
   "metadata": {
    "collapsed": true
   },
   "outputs": [],
   "source": [
    "if 'EmployeeCount' in df:\n",
    "    df.drop('EmployeeCount', axis=1, inplace=True)\n",
    "if 'StandardHours' in df:\n",
    "    df.drop('StandardHours', axis=1, inplace=True)"
   ]
  },
  {
   "cell_type": "markdown",
   "metadata": {},
   "source": [
    "## 3. Data Visualization"
   ]
  },
  {
   "cell_type": "markdown",
   "metadata": {},
   "source": [
    "### 3.1 Feature Exploring "
   ]
  },
  {
   "cell_type": "code",
   "execution_count": null,
   "metadata": {
    "collapsed": true
   },
   "outputs": [],
   "source": [
    "import matplotlib.pyplot as plt\n",
    "import warnings\n",
    "import seaborn as sns\n",
    "warnings.simplefilter('ignore', DeprecationWarning)\n",
    "%matplotlib inline "
   ]
  },
  {
   "cell_type": "markdown",
   "metadata": {},
   "source": [
    "Let's plot the overall distribution of attributes. Feature of dtype object will be explored later."
   ]
  },
  {
   "cell_type": "code",
   "execution_count": null,
   "metadata": {
    "collapsed": true,
    "scrolled": false
   },
   "outputs": [],
   "source": [
    "df.hist(figsize=(13,16))"
   ]
  },
  {
   "cell_type": "markdown",
   "metadata": {},
   "source": [
    "#### 3.1.1 Department"
   ]
  },
  {
   "cell_type": "code",
   "execution_count": null,
   "metadata": {
    "collapsed": true
   },
   "outputs": [],
   "source": [
    "# Total attrition rate\n",
    "print(\"Total attrition rate: {}\".format(df.Attrition.sum()/df.Attrition.count()*100))\n",
    "print('---------------------------------------')\n",
    "\n",
    "# group by Department and count attrition rate\n",
    "print(\"Value counts of departments:\")\n",
    "print(df.Department.value_counts())\n",
    "print('---------------------------------------')\n",
    "\n",
    "df_group_department = df.groupby(by='Department')\n",
    "\n",
    "print(df_group_department.Attrition.sum()/df_group_department.Attrition.count())"
   ]
  },
  {
   "cell_type": "code",
   "execution_count": null,
   "metadata": {
    "collapsed": true
   },
   "outputs": [],
   "source": [
    "# plot attrition rate of different departments\n",
    "plt.style.use('ggplot')\n",
    "attrition_rate = df_group_department.Attrition.sum()/df_group_department.Attrition.count()\n",
    "ax = attrition_rate.plot(kind='barh', figsize=(6,6))\n",
    "plt.title(\"Attrition Rate of different departments\")"
   ]
  },
  {
   "cell_type": "code",
   "execution_count": null,
   "metadata": {
    "collapsed": true
   },
   "outputs": [],
   "source": [
    "# showing total amount and percentage in one plot\n",
    "ct_department = pd.crosstab([df['Department']],df.Attrition.astype(bool))\n",
    "print(ct_department)\n",
    "ct_department.plot(kind='bar', stacked=True)\n",
    "\n",
    "ct_department_rate = ct_department.div(ct_department.sum(axis=1).astype(float), axis=0)\n",
    "ct_department_rate.plot(kind='barh', stacked=True)"
   ]
  },
  {
   "cell_type": "markdown",
   "metadata": {},
   "source": [
    "We can see that Research&Development has the lowest attrition rate, around 0.14. Human Resources and Sales have similar attrition rate, around 0.20.\n",
    "#### 3.1.2 Distance\n"
   ]
  },
  {
   "cell_type": "code",
   "execution_count": null,
   "metadata": {
    "collapsed": true
   },
   "outputs": [],
   "source": [
    "ct_distance = pd.crosstab([df['DistanceFromHome']],df.Attrition.astype(bool))\n",
    "ct_distance.plot(kind='bar', \n",
    "                 stacked=True, \n",
    "                 figsize=(10,8))\n",
    "\n",
    "ct_distance_rate = ct_distance.div(ct_distance.sum(axis=1).astype(float), axis=0)\n",
    "ct_distance_rate.plot(kind='barh', \n",
    "                      stacked=True, \n",
    "                      figsize=(10,8))"
   ]
  },
  {
   "cell_type": "markdown",
   "metadata": {},
   "source": [
    "Though most people live within 10 miles from work place, there is no clear pattern we can see from the histogram. Looks like DistanceFromHome is not a very good indicator or reason whether poeple leave a company."
   ]
  },
  {
   "cell_type": "markdown",
   "metadata": {},
   "source": [
    "#### 3.1.3 Education "
   ]
  },
  {
   "cell_type": "code",
   "execution_count": null,
   "metadata": {
    "collapsed": true,
    "scrolled": false
   },
   "outputs": [],
   "source": [
    "ct_education = pd.crosstab([df['Education']],df.Attrition.astype(bool)).apply(lambda r: r/r.sum(), axis=1)\n",
    "print(ct_education)\n",
    "ct_education.plot(kind='bar', \n",
    "                 stacked=True, \n",
    "                 figsize=(10,8))\n",
    "\n",
    "ct_education_rate = ct_education.div(ct_education.sum(axis=1).astype(float), axis=0)\n",
    "ct_education_rate.plot(kind='barh', \n",
    "                      stacked=True, \n",
    "                      figsize=(10,8))"
   ]
  },
  {
   "cell_type": "markdown",
   "metadata": {},
   "source": [
    "Looks like there is some correlation between education level and attrition rate. People with lower education have a slightly higher rate of attrition, from 0.10 at level 5 to 0.18 at level 1.\n",
    "#### 3.1.5 Gender and EducationField\n"
   ]
  },
  {
   "cell_type": "code",
   "execution_count": null,
   "metadata": {
    "collapsed": true
   },
   "outputs": [],
   "source": [
    "ct_educationfield = pd.crosstab([df['EducationField'], df['Gender']],df.Attrition.astype(bool)).apply(lambda r: r/r.sum(), axis=1)\n",
    "print(ct_educationfield)\n",
    "ct_educationfield.plot(kind='bar', \n",
    "                 stacked=True, \n",
    "                 figsize=(10,8))\n",
    "\n",
    "ct_educationfield_rate = ct_educationfield.div(ct_educationfield.sum(axis=1).astype(float), axis=0)\n",
    "ct_educationfield_rate.plot(kind='barh', \n",
    "                      stacked=True, \n",
    "                      figsize=(10,8))"
   ]
  },
  {
   "cell_type": "markdown",
   "metadata": {},
   "source": [
    "We can see that females within Human Resources have the highest attrition rate, about 0.375, next are males in Technical, at around 0.27.\n",
    "#### 3.1.6 Gender and Department"
   ]
  },
  {
   "cell_type": "code",
   "execution_count": null,
   "metadata": {
    "collapsed": true
   },
   "outputs": [],
   "source": [
    "ct_gender = pd.crosstab([df['Department'], df['Gender']], df.Attrition.astype(bool))\n",
    "print(ct_gender)\n",
    "ct_gender.plot(kind='bar', \n",
    "               stacked=True)\n",
    "\n",
    "ct_gender_rate = ct_gender.div(ct_gender.sum(axis=1).astype(float), axis=0)\n",
    "ct_gender_rate.plot(kind='barh', \n",
    "                    stacked=True)"
   ]
  },
  {
   "cell_type": "markdown",
   "metadata": {},
   "source": [
    "Just like Gender vs. Education Field, females in human resources department have the highest attrition rate, but this time males in sale come in next. \n",
    "\n",
    "Also, it looks like females in research/development have the highest loyalty."
   ]
  },
  {
   "cell_type": "markdown",
   "metadata": {},
   "source": [
    "#### 3.1.6 YearsAtCompany vs. Department／Age vs. Attrition"
   ]
  },
  {
   "cell_type": "code",
   "execution_count": null,
   "metadata": {
    "collapsed": true,
    "scrolled": false
   },
   "outputs": [],
   "source": [
    "sns.distplot(df.YearsAtCompany)\n",
    "\n",
    "f, ax = plt.subplots(figsize=(9, 9))\n",
    "\n",
    "sns.violinplot(x=\"Department\", y=\"YearsAtCompany\", hue=\"Attrition\", data=df, \n",
    "               split=True, inner=\"quart\")\n",
    "\n",
    "f, ax = plt.subplots(figsize=(9, 9))\n",
    "sns.violinplot(x=\"Gender\", y=\"YearsAtCompany\", hue=\"Attrition\", data=df, \n",
    "               split=True, inner=\"quart\")"
   ]
  },
  {
   "cell_type": "markdown",
   "metadata": {},
   "source": [
    "As we can see, employees in three department have similar YearsAtCompany distribution(a skewed Gaussian distribution). It looks like people tent to leave company in their early years, mostly under 10 years.\n",
    "Also, YearsAtCompany distribution among Gender are similar, and show the same tendency to leave early."
   ]
  },
  {
   "cell_type": "markdown",
   "metadata": {},
   "source": [
    "## Cut YearsInCompany and wage"
   ]
  },
  {
   "cell_type": "markdown",
   "metadata": {
    "collapsed": true
   },
   "source": [
    "### 3.2 Relationship Exploring"
   ]
  },
  {
   "cell_type": "markdown",
   "metadata": {},
   "source": [
    "## can do some heat map stuff by column/row\n",
    "## violin plot"
   ]
  },
  {
   "cell_type": "markdown",
   "metadata": {},
   "source": [
    "## 4. Extra"
   ]
  },
  {
   "cell_type": "code",
   "execution_count": null,
   "metadata": {
    "collapsed": true
   },
   "outputs": [],
   "source": []
  }
 ],
 "metadata": {
  "kernelspec": {
   "display_name": "Python 3",
   "language": "python",
   "name": "python3"
  },
  "language_info": {
   "codemirror_mode": {
    "name": "ipython",
    "version": 3
   },
   "file_extension": ".py",
   "mimetype": "text/x-python",
   "name": "python",
   "nbconvert_exporter": "python",
   "pygments_lexer": "ipython3",
   "version": "3.6.1"
  }
 },
 "nbformat": 4,
 "nbformat_minor": 2
}
